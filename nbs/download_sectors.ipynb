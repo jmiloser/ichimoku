{
 "cells": [
  {
   "cell_type": "code",
   "execution_count": null,
   "metadata": {},
   "outputs": [],
   "source": [
    "from pathlib import Path\n",
    "from src.ticker import Ticker\n",
    "from src.ichimoku import Ichimoku\n",
    "import pandas as pd\n",
    "import datetime\n",
    "from tqdm import tqdm\n",
    "import yfinance as yf"
   ]
  },
  {
   "cell_type": "code",
   "execution_count": null,
   "metadata": {},
   "outputs": [],
   "source": [
    "path = Path(\"../data/\")"
   ]
  },
  {
   "cell_type": "code",
   "execution_count": null,
   "metadata": {},
   "outputs": [],
   "source": [
    "Path(\"../data/\").is_dir()"
   ]
  },
  {
   "cell_type": "code",
   "execution_count": null,
   "metadata": {},
   "outputs": [],
   "source": [
    "etfs = {\n",
    "    \"XLC\": \"Communication Services\",\n",
    "    \"XLY\": \"Consumer Discretionary\",\n",
    "    \"XLP\": \"Consumer Staples\",\n",
    "    \"XLE\": \"Energy\",\n",
    "    \"XLF\": \"Financials\",\n",
    "    \"XLV\": \"Health Care\",\n",
    "    \"XLI\": \"Industrials\",\n",
    "    \"XLB\": \"Materials\",\n",
    "    \"XLRE\": \"Real Estate\",\n",
    "    \"XLK\": \"Technology\",\n",
    "    \"XLU\": \"Utilities\",\n",
    "}"
   ]
  },
  {
   "cell_type": "code",
   "execution_count": null,
   "metadata": {},
   "outputs": [],
   "source": [
    "etfs.keys()"
   ]
  },
  {
   "cell_type": "code",
   "execution_count": null,
   "metadata": {},
   "outputs": [],
   "source": [
    "tickers = list(etfs.keys())\n",
    "tickers"
   ]
  },
  {
   "cell_type": "code",
   "execution_count": null,
   "metadata": {},
   "outputs": [],
   "source": [
    "# ticker = Ticker(path, tickers, start_date=\"2015-01-01\", end_date=\"2017-08-01\") # 2016 election\n",
    "ticker = Ticker(path, tickers, start_date=\"2015-06-01\")"
   ]
  },
  {
   "cell_type": "code",
   "execution_count": null,
   "metadata": {},
   "outputs": [],
   "source": [
    "ticker.download_to_csv()"
   ]
  },
  {
   "cell_type": "code",
   "execution_count": null,
   "metadata": {},
   "outputs": [],
   "source": [
    "sectors = ticker.ticker_to_df()"
   ]
  },
  {
   "cell_type": "code",
   "execution_count": null,
   "metadata": {},
   "outputs": [],
   "source": [
    "ichimoku = Ichimoku(path)"
   ]
  },
  {
   "cell_type": "code",
   "execution_count": null,
   "metadata": {},
   "outputs": [],
   "source": [
    "for k, v in etfs.items():\n",
    "    result = ichimoku._calculate_features(sectors[k])\n",
    "    result.set_index(\"Date\", drop=False, inplace=True)\n",
    "    ichimoku.plot_ichimoku(result, name=f\"{k}:{v}\")"
   ]
  },
  {
   "cell_type": "code",
   "execution_count": null,
   "metadata": {},
   "outputs": [],
   "source": []
  },
  {
   "cell_type": "code",
   "execution_count": null,
   "metadata": {},
   "outputs": [],
   "source": []
  },
  {
   "cell_type": "code",
   "execution_count": null,
   "metadata": {},
   "outputs": [],
   "source": [
    "\"\"\"\n",
    "# 1. Function to fetch data for a given ticker symbol and commodity name\n",
    "def fetch_data(ticker_symbol, commodity_name):\n",
    "    ticker = yf.Ticker(ticker_symbol)\n",
    "    today = datetime.date.today().strftime('%Y-%m-%d')\n",
    "    data = ticker.history(start=\"1900-01-01\", end=today)\n",
    "    data.reset_index(inplace=True)\n",
    "    \n",
    "    # Check if the 'Date' column is of datetime type\n",
    "    if pd.api.types.is_datetime64_any_dtype(data['Date']):\n",
    "        data['Date'] = data['Date'].dt.strftime('%Y-%m-%d')\n",
    "    \n",
    "    # Drop the unnecessary columns\n",
    "    data.drop(columns=['Dividends', 'Stock Splits', 'Adj Close', 'Capital Gains'], inplace=True, errors='ignore')\n",
    "    \n",
    "    data['ticker'] = ticker_symbol  \n",
    "    data['sector'] = commodity_name  \n",
    "    \n",
    "    # Convert other column names to lowercase\n",
    "    data.columns = [col.lower() for col in data.columns]\n",
    "    \n",
    "    # Reorder columns to have 'ticker' and 'commodity' at the beginning\n",
    "    data = data[['ticker', 'sector'] + [col for col in data.columns if col not in ['ticker', 'sector']]]\n",
    "    \n",
    "    return data\n",
    "\n",
    "\n",
    "# 2. Loop over each symbol and append data to the master DataFrame\n",
    "all_data = []\n",
    "for symbol, name in tqdm(etfs.items(), desc=\"Fetching data\"):  # tqdm progress bar!\n",
    "    all_data.append(fetch_data(symbol, name))\n",
    "\n",
    "# Concatenate all the individual datasets into one\n",
    "master_data = pd.concat(all_data, ignore_index=True)\n",
    "\"\"\""
   ]
  }
 ],
 "metadata": {
  "kernelspec": {
   "display_name": ".venv",
   "language": "python",
   "name": "python3"
  },
  "language_info": {
   "codemirror_mode": {
    "name": "ipython",
    "version": 3
   },
   "file_extension": ".py",
   "mimetype": "text/x-python",
   "name": "python",
   "nbconvert_exporter": "python",
   "pygments_lexer": "ipython3",
   "version": "3.10.11"
  }
 },
 "nbformat": 4,
 "nbformat_minor": 2
}
