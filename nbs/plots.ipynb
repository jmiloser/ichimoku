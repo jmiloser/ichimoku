{
 "cells": [
  {
   "cell_type": "code",
   "execution_count": null,
   "metadata": {},
   "outputs": [],
   "source": [
    "from math import ceil\n",
    "from pathlib import Path\n",
    "from src.ticker import Ticker\n",
    "from src.ichimoku import Ichimoku\n",
    "import plotly.graph_objects as go\n",
    "from plotly.subplots import make_subplots\n",
    "from ipywidgets import HBox\n",
    "from datetime import datetime, timedelta\n",
    "import re"
   ]
  },
  {
   "cell_type": "markdown",
   "metadata": {},
   "source": [
    "# Download and Plot in Jupyter\n",
    "For quick snapshot plots for trading journal."
   ]
  },
  {
   "cell_type": "code",
   "execution_count": null,
   "metadata": {},
   "outputs": [],
   "source": [
    "# TICKERS = \"AAPL BIB DRN UTSL BNKU NVDA SOXL TQQQ ERX\"\n",
    "TICKERS = [\"AAPL\", \"BNKU\", \"NVDA\", \"QQQ\", \"ERX\"]\n",
    "data_path = Path(\"/Users/james/repos/ichimoku/data/holdings\")"
   ]
  },
  {
   "cell_type": "code",
   "execution_count": null,
   "metadata": {},
   "outputs": [],
   "source": [
    "def download_tickers(path: Path, tickers):\n",
    "    Ticker(path=data_path, tickers=TICKERS).download_to_csv()\n",
    "\n",
    "\n",
    "def plot_ichimoku_from_directory(path: Path, tickers):\n",
    "    ichimoku = Ichimoku(path=data_path, tickers=TICKERS, from_path=True)\n",
    "    dict_of_tickers = ichimoku.add_features(ichimoku.tickers)\n",
    "    for ticker in ichimoku.tickers:\n",
    "        ichimoku.plot_ichimoku(dict_of_tickers[ticker], ticker)"
   ]
  },
  {
   "cell_type": "code",
   "execution_count": null,
   "metadata": {},
   "outputs": [],
   "source": [
    "download_tickers(path=data_path, tickers=TICKERS)\n",
    "plot_ichimoku_from_directory(data_path, TICKERS)"
   ]
  }
 ],
 "metadata": {
  "kernelspec": {
   "display_name": ".venv",
   "language": "python",
   "name": "python3"
  },
  "language_info": {
   "codemirror_mode": {
    "name": "ipython",
    "version": 3
   },
   "file_extension": ".py",
   "mimetype": "text/x-python",
   "name": "python",
   "nbconvert_exporter": "python",
   "pygments_lexer": "ipython3",
   "version": "3.10.11"
  }
 },
 "nbformat": 4,
 "nbformat_minor": 2
}
